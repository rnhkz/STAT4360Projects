{
 "cells": [
  {
   "cell_type": "markdown",
   "id": "68482e43-cafa-41ea-9361-c3076f19ed59",
   "metadata": {},
   "source": [
    "# Section 1:"
   ]
  },
  {
   "cell_type": "code",
   "execution_count": 1,
   "id": "9cb14b98-e34e-4747-92e3-7bb5598868a1",
   "metadata": {},
   "outputs": [],
   "source": [
    "import pandas as pd\n",
    "from sklearn.linear_model import LinearRegression\n",
    "import numpy as np\n",
    "import matplotlib.pyplot as plt\n",
    "from statsmodels.formula.api import ols\n",
    "import statsmodels.api as sm\n",
    "from sklearn.neighbors import KNeighborsClassifier\n",
    "\n",
    "wine = pd.read_csv(\"Data/wine.txt\", sep=\"\\t\")"
   ]
  },
  {
   "cell_type": "markdown",
   "id": "550948c7-cae9-41db-9432-95f67b507544",
   "metadata": {},
   "source": [
    "### (a) For each predictor, fit a simple linear regression model to predict the response. Describe your results. In which of the models is there a statistically significant association between the predictor and the response? Create some plots to back up your assertions."
   ]
  },
  {
   "cell_type": "code",
   "execution_count": 35,
   "id": "8476ad6c-1eb3-4b3e-9483-7928a773ee18",
   "metadata": {},
   "outputs": [
    {
     "data": {
      "text/html": [
       "<div>\n",
       "<style scoped>\n",
       "    .dataframe tbody tr th:only-of-type {\n",
       "        vertical-align: middle;\n",
       "    }\n",
       "\n",
       "    .dataframe tbody tr th {\n",
       "        vertical-align: top;\n",
       "    }\n",
       "\n",
       "    .dataframe thead th {\n",
       "        text-align: right;\n",
       "    }\n",
       "</style>\n",
       "<table border=\"1\" class=\"dataframe\">\n",
       "  <thead>\n",
       "    <tr style=\"text-align: right;\">\n",
       "      <th></th>\n",
       "      <th>Clarity</th>\n",
       "      <th>Aroma</th>\n",
       "      <th>Body</th>\n",
       "      <th>Flavor</th>\n",
       "      <th>Oakiness</th>\n",
       "      <th>Quality</th>\n",
       "      <th>Region</th>\n",
       "    </tr>\n",
       "  </thead>\n",
       "  <tbody>\n",
       "    <tr>\n",
       "      <th>count</th>\n",
       "      <td>38.000000</td>\n",
       "      <td>38.000000</td>\n",
       "      <td>38.000000</td>\n",
       "      <td>38.000000</td>\n",
       "      <td>38.000000</td>\n",
       "      <td>38.000000</td>\n",
       "      <td>38.000000</td>\n",
       "    </tr>\n",
       "    <tr>\n",
       "      <th>mean</th>\n",
       "      <td>0.923684</td>\n",
       "      <td>4.847368</td>\n",
       "      <td>4.684211</td>\n",
       "      <td>4.768421</td>\n",
       "      <td>4.255263</td>\n",
       "      <td>12.436842</td>\n",
       "      <td>1.868421</td>\n",
       "    </tr>\n",
       "    <tr>\n",
       "      <th>std</th>\n",
       "      <td>0.123975</td>\n",
       "      <td>1.082474</td>\n",
       "      <td>0.824138</td>\n",
       "      <td>1.028014</td>\n",
       "      <td>0.738039</td>\n",
       "      <td>2.045353</td>\n",
       "      <td>0.875216</td>\n",
       "    </tr>\n",
       "    <tr>\n",
       "      <th>min</th>\n",
       "      <td>0.500000</td>\n",
       "      <td>3.300000</td>\n",
       "      <td>2.600000</td>\n",
       "      <td>2.900000</td>\n",
       "      <td>2.900000</td>\n",
       "      <td>7.900000</td>\n",
       "      <td>1.000000</td>\n",
       "    </tr>\n",
       "    <tr>\n",
       "      <th>25%</th>\n",
       "      <td>0.825000</td>\n",
       "      <td>4.125000</td>\n",
       "      <td>4.150000</td>\n",
       "      <td>4.225000</td>\n",
       "      <td>3.700000</td>\n",
       "      <td>11.150000</td>\n",
       "      <td>1.000000</td>\n",
       "    </tr>\n",
       "    <tr>\n",
       "      <th>50%</th>\n",
       "      <td>1.000000</td>\n",
       "      <td>4.650000</td>\n",
       "      <td>4.750000</td>\n",
       "      <td>4.800000</td>\n",
       "      <td>4.100000</td>\n",
       "      <td>12.450000</td>\n",
       "      <td>2.000000</td>\n",
       "    </tr>\n",
       "    <tr>\n",
       "      <th>75%</th>\n",
       "      <td>1.000000</td>\n",
       "      <td>5.450000</td>\n",
       "      <td>5.375000</td>\n",
       "      <td>5.500000</td>\n",
       "      <td>4.775000</td>\n",
       "      <td>13.750000</td>\n",
       "      <td>3.000000</td>\n",
       "    </tr>\n",
       "    <tr>\n",
       "      <th>max</th>\n",
       "      <td>1.000000</td>\n",
       "      <td>7.700000</td>\n",
       "      <td>6.600000</td>\n",
       "      <td>7.000000</td>\n",
       "      <td>6.000000</td>\n",
       "      <td>16.100000</td>\n",
       "      <td>3.000000</td>\n",
       "    </tr>\n",
       "  </tbody>\n",
       "</table>\n",
       "</div>"
      ],
      "text/plain": [
       "         Clarity      Aroma       Body     Flavor   Oakiness    Quality  \\\n",
       "count  38.000000  38.000000  38.000000  38.000000  38.000000  38.000000   \n",
       "mean    0.923684   4.847368   4.684211   4.768421   4.255263  12.436842   \n",
       "std     0.123975   1.082474   0.824138   1.028014   0.738039   2.045353   \n",
       "min     0.500000   3.300000   2.600000   2.900000   2.900000   7.900000   \n",
       "25%     0.825000   4.125000   4.150000   4.225000   3.700000  11.150000   \n",
       "50%     1.000000   4.650000   4.750000   4.800000   4.100000  12.450000   \n",
       "75%     1.000000   5.450000   5.375000   5.500000   4.775000  13.750000   \n",
       "max     1.000000   7.700000   6.600000   7.000000   6.000000  16.100000   \n",
       "\n",
       "          Region  \n",
       "count  38.000000  \n",
       "mean    1.868421  \n",
       "std     0.875216  \n",
       "min     1.000000  \n",
       "25%     1.000000  \n",
       "50%     2.000000  \n",
       "75%     3.000000  \n",
       "max     3.000000  "
      ]
     },
     "execution_count": 35,
     "metadata": {},
     "output_type": "execute_result"
    }
   ],
   "source": [
    "wine.describe()"
   ]
  },
  {
   "cell_type": "code",
   "execution_count": 80,
   "id": "ef92eaf7-37ec-49a0-a267-ceb863276b10",
   "metadata": {},
   "outputs": [
    {
     "data": {
      "text/html": [
       "<div>\n",
       "<style scoped>\n",
       "    .dataframe tbody tr th:only-of-type {\n",
       "        vertical-align: middle;\n",
       "    }\n",
       "\n",
       "    .dataframe tbody tr th {\n",
       "        vertical-align: top;\n",
       "    }\n",
       "\n",
       "    .dataframe thead th {\n",
       "        text-align: right;\n",
       "    }\n",
       "</style>\n",
       "<table border=\"1\" class=\"dataframe\">\n",
       "  <thead>\n",
       "    <tr style=\"text-align: right;\">\n",
       "      <th></th>\n",
       "      <th>Clarity</th>\n",
       "      <th>Aroma</th>\n",
       "      <th>Body</th>\n",
       "      <th>Flavor</th>\n",
       "      <th>Oakiness</th>\n",
       "      <th>Quality</th>\n",
       "      <th>Region</th>\n",
       "    </tr>\n",
       "  </thead>\n",
       "  <tbody>\n",
       "    <tr>\n",
       "      <th>Clarity</th>\n",
       "      <td>1.000000</td>\n",
       "      <td>0.061902</td>\n",
       "      <td>-0.308378</td>\n",
       "      <td>-0.085160</td>\n",
       "      <td>0.183215</td>\n",
       "      <td>0.028441</td>\n",
       "      <td>-0.020320</td>\n",
       "    </tr>\n",
       "    <tr>\n",
       "      <th>Aroma</th>\n",
       "      <td>0.061902</td>\n",
       "      <td>1.000000</td>\n",
       "      <td>0.548910</td>\n",
       "      <td>0.736561</td>\n",
       "      <td>0.201644</td>\n",
       "      <td>0.707324</td>\n",
       "      <td>0.620101</td>\n",
       "    </tr>\n",
       "    <tr>\n",
       "      <th>Body</th>\n",
       "      <td>-0.308378</td>\n",
       "      <td>0.548910</td>\n",
       "      <td>1.000000</td>\n",
       "      <td>0.646659</td>\n",
       "      <td>0.152106</td>\n",
       "      <td>0.548702</td>\n",
       "      <td>0.435440</td>\n",
       "    </tr>\n",
       "    <tr>\n",
       "      <th>Flavor</th>\n",
       "      <td>-0.085160</td>\n",
       "      <td>0.736561</td>\n",
       "      <td>0.646659</td>\n",
       "      <td>1.000000</td>\n",
       "      <td>0.179761</td>\n",
       "      <td>0.790047</td>\n",
       "      <td>0.505918</td>\n",
       "    </tr>\n",
       "    <tr>\n",
       "      <th>Oakiness</th>\n",
       "      <td>0.183215</td>\n",
       "      <td>0.201644</td>\n",
       "      <td>0.152106</td>\n",
       "      <td>0.179761</td>\n",
       "      <td>1.000000</td>\n",
       "      <td>-0.047040</td>\n",
       "      <td>-0.059569</td>\n",
       "    </tr>\n",
       "    <tr>\n",
       "      <th>Quality</th>\n",
       "      <td>0.028441</td>\n",
       "      <td>0.707324</td>\n",
       "      <td>0.548702</td>\n",
       "      <td>0.790047</td>\n",
       "      <td>-0.047040</td>\n",
       "      <td>1.000000</td>\n",
       "      <td>0.507049</td>\n",
       "    </tr>\n",
       "    <tr>\n",
       "      <th>Region</th>\n",
       "      <td>-0.020320</td>\n",
       "      <td>0.620101</td>\n",
       "      <td>0.435440</td>\n",
       "      <td>0.505918</td>\n",
       "      <td>-0.059569</td>\n",
       "      <td>0.507049</td>\n",
       "      <td>1.000000</td>\n",
       "    </tr>\n",
       "  </tbody>\n",
       "</table>\n",
       "</div>"
      ],
      "text/plain": [
       "           Clarity     Aroma      Body    Flavor  Oakiness   Quality    Region\n",
       "Clarity   1.000000  0.061902 -0.308378 -0.085160  0.183215  0.028441 -0.020320\n",
       "Aroma     0.061902  1.000000  0.548910  0.736561  0.201644  0.707324  0.620101\n",
       "Body     -0.308378  0.548910  1.000000  0.646659  0.152106  0.548702  0.435440\n",
       "Flavor   -0.085160  0.736561  0.646659  1.000000  0.179761  0.790047  0.505918\n",
       "Oakiness  0.183215  0.201644  0.152106  0.179761  1.000000 -0.047040 -0.059569\n",
       "Quality   0.028441  0.707324  0.548702  0.790047 -0.047040  1.000000  0.507049\n",
       "Region   -0.020320  0.620101  0.435440  0.505918 -0.059569  0.507049  1.000000"
      ]
     },
     "execution_count": 80,
     "metadata": {},
     "output_type": "execute_result"
    }
   ],
   "source": [
    "wine.corr()"
   ]
  },
  {
   "cell_type": "markdown",
   "id": "c4439447-2656-4f4d-8a27-71e595fd0f29",
   "metadata": {},
   "source": [
    "* One interesting finding is that wines from region 3 tend to be of higher __Quality__.\n",
    "* __Flavor__ had the highest correlation with __Quality__ (.790047), followed by __Aroma__ (.707324).\n",
    "* __Flavor__ and __Aroma__ are the only other pair of variables to have a correlation over .7 (.736561).\n",
    "* __Flavor__ and __Quality__ had the highest correlation between all pairs of variables.\n",
    "* __Oakiness__ seems to have to overall lowest correlation with all other variables."
   ]
  },
  {
   "cell_type": "markdown",
   "id": "806cd53f-d869-4285-9c11-8c222223d17a",
   "metadata": {},
   "source": [
    "### (b) Describe results after fitting linear regression models to each predictor."
   ]
  },
  {
   "cell_type": "code",
   "execution_count": 2,
   "id": "2e4c3eaf-5719-4f05-8d1c-b92022bdc89e",
   "metadata": {},
   "outputs": [
    {
     "data": {
      "image/png": "[encoded data removed]",
      "text/plain": [
       "<Figure size 800x600 with 1 Axes>"
      ]
     },
     "metadata": {},
     "output_type": "display_data"
    }
   ],
   "source": [
    "X = wine.Clarity.to_numpy().reshape([-1,1])\n",
    "y = wine.Quality.to_numpy()\n",
    "fit1 = LinearRegression().fit(X, y)\n",
    "\n",
    "model1 = ols('Quality ~ Clarity',data=wine).fit()\n",
    "fig, ax = plt.subplots(figsize=(8, 6))\n",
    "scatter = ax.scatter(X, y, c = wine['Region'], label=\"DATA\")\n",
    "ax.plot(X, model1.fittedvalues, \"r-\", label=\"OLS\")\n",
    "ax.legend(handles=scatter.legend_elements()[0], labels=['1', '2', '3'], title=\"Regions\", loc = \"best\")\n",
    "plt.show()"
   ]
  },
  {
   "cell_type": "code",
   "execution_count": 3,
   "id": "4983c8df-4fb3-42f3-b44e-9c9490ce9516",
   "metadata": {},
   "outputs": [
    {
     "name": "stdout",
     "output_type": "stream",
     "text": [
      "                            OLS Regression Results                            \n",
      "==============================================================================\n",
      "Dep. Variable:                Quality   R-squared:                       0.001\n",
      "Model:                            OLS   Adj. R-squared:                 -0.027\n",
      "Method:                 Least Squares   F-statistic:                   0.02914\n",
      "Date:                Sat, 23 Mar 2024   Prob (F-statistic):              0.865\n",
      "Time:                        11:31:40   Log-Likelihood:                -80.589\n",
      "No. Observations:                  38   AIC:                             165.2\n",
      "Df Residuals:                      36   BIC:                             168.5\n",
      "Df Model:                           1                                         \n",
      "Covariance Type:            nonrobust                                         \n",
      "==============================================================================\n",
      "                 coef    std err          t      P>|t|      [0.025      0.975]\n",
      "------------------------------------------------------------------------------\n",
      "Intercept     12.0034      2.561      4.687      0.000       6.810      17.197\n",
      "Clarity        0.4692      2.749      0.171      0.865      -5.105       6.044\n",
      "==============================================================================\n",
      "Omnibus:                        0.238   Durbin-Watson:                   1.127\n",
      "Prob(Omnibus):                  0.888   Jarque-Bera (JB):                0.405\n",
      "Skew:                          -0.147   Prob(JB):                        0.817\n",
      "Kurtosis:                       2.589   Cond. No.                         15.2\n",
      "==============================================================================\n",
      "\n",
      "Notes:\n",
      "[1] Standard Errors assume that the covariance matrix of the errors is correctly specified.\n"
     ]
    }
   ],
   "source": [
    "print(model1.summary())"
   ]
  },
  {
   "cell_type": "markdown",
   "id": "08a4fad7-0e8d-45a6-840b-bbd687a86263",
   "metadata": {},
   "source": [
    "#### __Quality = y, Clarity = x:__\n",
    "* Bad fit. Many plots of the same clarity at the right corresponding to different quality values. No clear pattern.\n",
    "* R-squared = .001."
   ]
  },
  {
   "cell_type": "code",
   "execution_count": 38,
   "id": "d2bfd3b5-bb75-49c3-96cd-d63af0b047fc",
   "metadata": {},
   "outputs": [
    {
     "data": {
      "image/png": "[encoded data removed]",
      "text/plain": [
       "<Figure size 800x600 with 1 Axes>"
      ]
     },
     "metadata": {},
     "output_type": "display_data"
    }
   ],
   "source": [
    "X = wine.Aroma.to_numpy().reshape([-1,1])\n",
    "y = wine.Quality.to_numpy()\n",
    "fit1 = LinearRegression().fit(X, y)\n",
    "\n",
    "model1 = ols('Quality ~ Aroma',data=wine).fit()\n",
    "fig, ax = plt.subplots(figsize=(8, 6))\n",
    "scatter = ax.scatter(X, y, c = wine['Region'], label=\"DATA\")\n",
    "ax.plot(X, model1.fittedvalues, \"r-\", label=\"OLS\")\n",
    "ax.legend(handles=scatter.legend_elements()[0], labels=['1', '2', '3'], title=\"Regions\", loc = \"best\")\n",
    "plt.show()"
   ]
  },
  {
   "cell_type": "code",
   "execution_count": 39,
   "id": "ffa4ee46-7bb7-491f-b022-235b21ed4abb",
   "metadata": {},
   "outputs": [
    {
     "name": "stdout",
     "output_type": "stream",
     "text": [
      "                            OLS Regression Results                            \n",
      "==============================================================================\n",
      "Dep. Variable:                Quality   R-squared:                       0.500\n",
      "Model:                            OLS   Adj. R-squared:                  0.486\n",
      "Method:                 Least Squares   F-statistic:                     36.04\n",
      "Date:                Sun, 17 Sep 2023   Prob (F-statistic):           6.87e-07\n",
      "Time:                        15:01:13   Log-Likelihood:                -67.423\n",
      "No. Observations:                  38   AIC:                             138.8\n",
      "Df Residuals:                      36   BIC:                             142.1\n",
      "Df Model:                           1                                         \n",
      "Covariance Type:            nonrobust                                         \n",
      "==============================================================================\n",
      "                 coef    std err          t      P>|t|      [0.025      0.975]\n",
      "------------------------------------------------------------------------------\n",
      "Intercept      5.9583      1.105      5.392      0.000       3.717       8.199\n",
      "Aroma          1.3365      0.223      6.004      0.000       0.885       1.788\n",
      "==============================================================================\n",
      "Omnibus:                        1.107   Durbin-Watson:                   1.372\n",
      "Prob(Omnibus):                  0.575   Jarque-Bera (JB):                1.111\n",
      "Skew:                          -0.358   Prob(JB):                        0.574\n",
      "Kurtosis:                       2.567   Cond. No.                         24.0\n",
      "==============================================================================\n",
      "\n",
      "Notes:\n",
      "[1] Standard Errors assume that the covariance matrix of the errors is correctly specified.\n"
     ]
    }
   ],
   "source": [
    "print(model1.summary())"
   ]
  },
  {
   "cell_type": "markdown",
   "id": "26c16a1d-809d-4635-8dcd-34aa0d10d1b2",
   "metadata": {},
   "source": [
    "#### __Quality = y, Aroma = x__\n",
    "* There is a trend with the points moving from the bottom left of the graph to the top right, which the line of regression captures.\n",
    "* However, they are somewhat scattered from each other.\n",
    "* R-squared = .5."
   ]
  },
  {
   "cell_type": "code",
   "execution_count": 40,
   "id": "f901acf0-c30e-44c4-997f-6994bc98666c",
   "metadata": {},
   "outputs": [
    {
     "data": {
      "image/png": "[encoded data removed]",
      "text/plain": [
       "<Figure size 800x600 with 1 Axes>"
      ]
     },
     "metadata": {},
     "output_type": "display_data"
    }
   ],
   "source": [
    "X = wine.Body.to_numpy().reshape([-1,1])\n",
    "y = wine.Quality.to_numpy()\n",
    "fit1 = LinearRegression().fit(X, y)\n",
    "\n",
    "model1 = ols('Quality ~ Body',data=wine).fit()\n",
    "fig, ax = plt.subplots(figsize=(8, 6))\n",
    "scatter = ax.scatter(X, y, c = wine['Region'], label=\"DATA\")\n",
    "ax.plot(X, model1.fittedvalues, \"r-\", label=\"OLS\")\n",
    "ax.legend(handles=scatter.legend_elements()[0], labels=['1', '2', '3'], title=\"Regions\", loc = \"best\")\n",
    "plt.show()"
   ]
  },
  {
   "cell_type": "code",
   "execution_count": 41,
   "id": "5b1c0173-4c54-4614-9185-0f4d4333ed43",
   "metadata": {},
   "outputs": [
    {
     "name": "stdout",
     "output_type": "stream",
     "text": [
      "                            OLS Regression Results                            \n",
      "==============================================================================\n",
      "Dep. Variable:                Quality   R-squared:                       0.301\n",
      "Model:                            OLS   Adj. R-squared:                  0.282\n",
      "Method:                 Least Squares   F-statistic:                     15.51\n",
      "Date:                Sun, 17 Sep 2023   Prob (F-statistic):           0.000361\n",
      "Time:                        15:01:43   Log-Likelihood:                -73.799\n",
      "No. Observations:                  38   AIC:                             151.6\n",
      "Df Residuals:                      36   BIC:                             154.9\n",
      "Df Model:                           1                                         \n",
      "Covariance Type:            nonrobust                                         \n",
      "==============================================================================\n",
      "                 coef    std err          t      P>|t|      [0.025      0.975]\n",
      "------------------------------------------------------------------------------\n",
      "Intercept      6.0580      1.644      3.685      0.001       2.724       9.392\n",
      "Body           1.3618      0.346      3.938      0.000       0.660       2.063\n",
      "==============================================================================\n",
      "Omnibus:                        3.251   Durbin-Watson:                   1.595\n",
      "Prob(Omnibus):                  0.197   Jarque-Bera (JB):                2.021\n",
      "Skew:                          -0.472   Prob(JB):                        0.364\n",
      "Kurtosis:                       3.619   Cond. No.                         29.0\n",
      "==============================================================================\n",
      "\n",
      "Notes:\n",
      "[1] Standard Errors assume that the covariance matrix of the errors is correctly specified.\n"
     ]
    }
   ],
   "source": [
    "print(model1.summary())"
   ]
  },
  {
   "cell_type": "markdown",
   "id": "69ad362a-677f-48b5-8b66-e0d56c3d63c6",
   "metadata": {},
   "source": [
    "#### __Quality = y, Body = x__\n",
    "* There is a trend with the points moving from the bottom left of the graph to the top right, although it is not very obvious.\n",
    "* Points are rather scattered from each other.\n",
    "* R-squared = .301."
   ]
  },
  {
   "cell_type": "code",
   "execution_count": 42,
   "id": "c49b0e7c-a347-4d65-96f9-4f70890d8ab4",
   "metadata": {},
   "outputs": [
    {
     "data": {
      "image/png": "[encoded data removed]",
      "text/plain": [
       "<Figure size 800x600 with 1 Axes>"
      ]
     },
     "metadata": {},
     "output_type": "display_data"
    }
   ],
   "source": [
    "X = wine.Flavor.to_numpy().reshape([-1,1])\n",
    "y = wine.Quality.to_numpy()\n",
    "fit1 = LinearRegression().fit(X, y)\n",
    "\n",
    "model1 = ols('Quality ~ Flavor',data=wine).fit()\n",
    "fig, ax = plt.subplots(figsize=(8, 6))\n",
    "scatter = ax.scatter(X, y, c = wine['Region'], label=\"DATA\")\n",
    "ax.plot(X, model1.fittedvalues, \"r-\", label=\"OLS\")\n",
    "ax.legend(handles=scatter.legend_elements()[0], labels=['1', '2', '3'], title=\"Regions\", loc = \"best\")\n",
    "plt.show()"
   ]
  },
  {
   "cell_type": "code",
   "execution_count": 43,
   "id": "d539f49f-e7af-452e-b28e-8b20f0ddfb87",
   "metadata": {},
   "outputs": [
    {
     "name": "stdout",
     "output_type": "stream",
     "text": [
      "                            OLS Regression Results                            \n",
      "==============================================================================\n",
      "Dep. Variable:                Quality   R-squared:                       0.624\n",
      "Model:                            OLS   Adj. R-squared:                  0.614\n",
      "Method:                 Least Squares   F-statistic:                     59.79\n",
      "Date:                Sun, 17 Sep 2023   Prob (F-statistic):           3.68e-09\n",
      "Time:                        15:02:22   Log-Likelihood:                -62.011\n",
      "No. Observations:                  38   AIC:                             128.0\n",
      "Df Residuals:                      36   BIC:                             131.3\n",
      "Df Model:                           1                                         \n",
      "Covariance Type:            nonrobust                                         \n",
      "==============================================================================\n",
      "                 coef    std err          t      P>|t|      [0.025      0.975]\n",
      "------------------------------------------------------------------------------\n",
      "Intercept      4.9414      0.991      4.986      0.000       2.931       6.951\n",
      "Flavor         1.5719      0.203      7.732      0.000       1.160       1.984\n",
      "==============================================================================\n",
      "Omnibus:                        0.189   Durbin-Watson:                   0.939\n",
      "Prob(Omnibus):                  0.910   Jarque-Bera (JB):                0.394\n",
      "Skew:                           0.073   Prob(JB):                        0.821\n",
      "Kurtosis:                       2.523   Cond. No.                         24.4\n",
      "==============================================================================\n",
      "\n",
      "Notes:\n",
      "[1] Standard Errors assume that the covariance matrix of the errors is correctly specified.\n"
     ]
    }
   ],
   "source": [
    "print(model1.summary())"
   ]
  },
  {
   "cell_type": "markdown",
   "id": "6ec1191a-db29-4db2-83ab-c52e73eb50d4",
   "metadata": {},
   "source": [
    "#### __Quality = y, Flavor = x:__\n",
    "* There is a mildly clear trend with the points moving from the bottom left of the graph to the top right, which the line of regression captures.\n",
    "* The points are somewhat scattered from each other.\n",
    "* R-squared = .624."
   ]
  },
  {
   "cell_type": "code",
   "execution_count": 44,
   "id": "cdd42d00-85ae-4bfb-8e45-5100ff0cb377",
   "metadata": {},
   "outputs": [
    {
     "data": {
      "image/png": "[encoded data removed]",
      "text/plain": [
       "<Figure size 800x600 with 1 Axes>"
      ]
     },
     "metadata": {},
     "output_type": "display_data"
    }
   ],
   "source": [
    "X = wine.Oakiness.to_numpy().reshape([-1,1])\n",
    "y = wine.Quality.to_numpy()\n",
    "fit1 = LinearRegression().fit(X, y)\n",
    "\n",
    "model1 = ols('Quality ~ Oakiness',data=wine).fit()\n",
    "fig, ax = plt.subplots(figsize=(8, 6))\n",
    "scatter = ax.scatter(X, y, c = wine['Region'], label=\"DATA\")\n",
    "ax.plot(X, model1.fittedvalues, \"r-\", label=\"OLS\")\n",
    "ax.legend(handles=scatter.legend_elements()[0], labels=['1', '2', '3'], title=\"Regions\", loc = \"best\")\n",
    "plt.show()"
   ]
  },
  {
   "cell_type": "code",
   "execution_count": 45,
   "id": "297df243-1389-4887-9a45-bc011db5b0db",
   "metadata": {},
   "outputs": [
    {
     "name": "stdout",
     "output_type": "stream",
     "text": [
      "                            OLS Regression Results                            \n",
      "==============================================================================\n",
      "Dep. Variable:                Quality   R-squared:                       0.002\n",
      "Model:                            OLS   Adj. R-squared:                 -0.026\n",
      "Method:                 Least Squares   F-statistic:                   0.07984\n",
      "Date:                Sun, 17 Sep 2023   Prob (F-statistic):              0.779\n",
      "Time:                        15:02:47   Log-Likelihood:                -80.563\n",
      "No. Observations:                  38   AIC:                             165.1\n",
      "Df Residuals:                      36   BIC:                             168.4\n",
      "Df Model:                           1                                         \n",
      "Covariance Type:            nonrobust                                         \n",
      "==============================================================================\n",
      "                 coef    std err          t      P>|t|      [0.025      0.975]\n",
      "------------------------------------------------------------------------------\n",
      "Intercept     12.9916      1.992      6.522      0.000       8.952      17.031\n",
      "Oakiness      -0.1304      0.461     -0.283      0.779      -1.066       0.805\n",
      "==============================================================================\n",
      "Omnibus:                        0.335   Durbin-Watson:                   1.189\n",
      "Prob(Omnibus):                  0.846   Jarque-Bera (JB):                0.455\n",
      "Skew:                          -0.194   Prob(JB):                        0.796\n",
      "Kurtosis:                       2.630   Cond. No.                         26.9\n",
      "==============================================================================\n",
      "\n",
      "Notes:\n",
      "[1] Standard Errors assume that the covariance matrix of the errors is correctly specified.\n"
     ]
    }
   ],
   "source": [
    "print(model1.summary())"
   ]
  },
  {
   "cell_type": "markdown",
   "id": "3883e00d-a079-4f47-a953-83a632edb5b6",
   "metadata": {},
   "source": [
    "#### __Quality = x, Oakiness = y:__\n",
    "* Plots are very scattered around the center of the y axis, along the x axis. Bad fit.\n",
    "* R-squared = .002."
   ]
  },
  {
   "cell_type": "markdown",
   "id": "4a941f79-bf48-4958-8916-a5ecce593f8f",
   "metadata": {},
   "source": [
    "#### __Significant Variables:__\n",
    "* Based off of R-squared values, Flavor and Aroma can be significant variables."
   ]
  },
  {
   "cell_type": "markdown",
   "id": "54710c51-782b-416b-97d9-a7edb99de2e4",
   "metadata": {},
   "source": [
    "### (c) Fit a multiple regression model to predict the response using all of the predictors. Describe your results. For which predictors can we reject the null hypothesis H0 : βj = 0?"
   ]
  },
  {
   "cell_type": "code",
   "execution_count": 72,
   "id": "90fd50f4-cd7d-4ec6-a3ca-9fce4c1b7625",
   "metadata": {},
   "outputs": [
    {
     "name": "stdout",
     "output_type": "stream",
     "text": [
      "                            OLS Regression Results                            \n",
      "==============================================================================\n",
      "Dep. Variable:                Quality   R-squared:                       0.838\n",
      "Model:                            OLS   Adj. R-squared:                  0.800\n",
      "Method:                 Least Squares   F-statistic:                     22.10\n",
      "Date:                Sun, 17 Sep 2023   Prob (F-statistic):           3.29e-10\n",
      "Time:                        15:51:19   Log-Likelihood:                -46.070\n",
      "No. Observations:                  38   AIC:                             108.1\n",
      "Df Residuals:                      30   BIC:                             121.2\n",
      "Df Model:                           7                                         \n",
      "Covariance Type:            nonrobust                                         \n",
      "==================================================================================\n",
      "                     coef    std err          t      P>|t|      [0.025      0.975]\n",
      "----------------------------------------------------------------------------------\n",
      "Intercept          7.8144      1.969      3.968      0.000       3.792      11.837\n",
      "C(Region)[T.2]    -1.5129      0.392     -3.857      0.001      -2.314      -0.712\n",
      "C(Region)[T.3]     0.9726      0.510      1.906      0.066      -0.069       2.014\n",
      "Clarity            0.0171      1.456      0.012      0.991      -2.957       2.991\n",
      "Aroma              0.0890      0.252      0.353      0.727      -0.427       0.605\n",
      "Body               0.0797      0.268      0.298      0.768      -0.467       0.626\n",
      "Flavor             1.1172      0.240      4.650      0.000       0.627       1.608\n",
      "Oakiness          -0.3464      0.233     -1.487      0.148      -0.822       0.129\n",
      "==============================================================================\n",
      "Omnibus:                        0.006   Durbin-Watson:                   1.540\n",
      "Prob(Omnibus):                  0.997   Jarque-Bera (JB):                0.094\n",
      "Skew:                          -0.003   Prob(JB):                        0.954\n",
      "Kurtosis:                       2.757   Cond. No.                         150.\n",
      "==============================================================================\n",
      "\n",
      "Notes:\n",
      "[1] Standard Errors assume that the covariance matrix of the errors is correctly specified.\n"
     ]
    }
   ],
   "source": [
    "model2 = ols('Quality ~ Clarity + C(Region) + Aroma + Body + Flavor + Oakiness',data=wine).fit()\n",
    "print(model2.summary())"
   ]
  },
  {
   "cell_type": "markdown",
   "id": "2089802e-a0b0-4c6b-af3c-42891d0b57b8",
   "metadata": {},
   "source": [
    "* From these results, we can not reject the null hypothesis for variables Clarity, Aroma, Body, and Oakiness."
   ]
  },
  {
   "cell_type": "markdown",
   "id": "b02b8f5b-34b0-492c-9bd3-e6c6b1e66c05",
   "metadata": {},
   "source": [
    "### (d) Based on your observation in (b) and (c), build a “reasonably good” multiple regression model for the data. Be sure to explore interactions of Region with other predictors. Carefully justify all the choices you make in building the model and verify the model assumptions."
   ]
  },
  {
   "cell_type": "code",
   "execution_count": 77,
   "id": "e013e2f0-e5b3-49d5-9433-fe16ecca05cd",
   "metadata": {},
   "outputs": [
    {
     "data": {
      "text/html": [
       "<div>\n",
       "<style scoped>\n",
       "    .dataframe tbody tr th:only-of-type {\n",
       "        vertical-align: middle;\n",
       "    }\n",
       "\n",
       "    .dataframe tbody tr th {\n",
       "        vertical-align: top;\n",
       "    }\n",
       "\n",
       "    .dataframe thead th {\n",
       "        text-align: right;\n",
       "    }\n",
       "</style>\n",
       "<table border=\"1\" class=\"dataframe\">\n",
       "  <thead>\n",
       "    <tr style=\"text-align: right;\">\n",
       "      <th></th>\n",
       "      <th>df_resid</th>\n",
       "      <th>ssr</th>\n",
       "      <th>df_diff</th>\n",
       "      <th>ss_diff</th>\n",
       "      <th>F</th>\n",
       "      <th>Pr(&gt;F)</th>\n",
       "    </tr>\n",
       "  </thead>\n",
       "  <tbody>\n",
       "    <tr>\n",
       "      <th>0</th>\n",
       "      <td>32.0</td>\n",
       "      <td>43.248006</td>\n",
       "      <td>0.0</td>\n",
       "      <td>NaN</td>\n",
       "      <td>NaN</td>\n",
       "      <td>NaN</td>\n",
       "    </tr>\n",
       "    <tr>\n",
       "      <th>1</th>\n",
       "      <td>30.0</td>\n",
       "      <td>25.140145</td>\n",
       "      <td>2.0</td>\n",
       "      <td>18.107861</td>\n",
       "      <td>10.80415</td>\n",
       "      <td>0.000292</td>\n",
       "    </tr>\n",
       "  </tbody>\n",
       "</table>\n",
       "</div>"
      ],
      "text/plain": [
       "   df_resid        ssr  df_diff    ss_diff         F    Pr(>F)\n",
       "0      32.0  43.248006      0.0        NaN       NaN       NaN\n",
       "1      30.0  25.140145      2.0  18.107861  10.80415  0.000292"
      ]
     },
     "execution_count": 77,
     "metadata": {},
     "output_type": "execute_result"
    }
   ],
   "source": [
    "# Is Region significant?\n",
    "model3 = ols('Quality ~ Clarity + Aroma + Body + Flavor + Oakiness',data=wine).fit()\n",
    "sm.stats.anova_lm(model3, model2, typ=1)"
   ]
  },
  {
   "cell_type": "code",
   "execution_count": 2,
   "id": "656c3bdd-4556-4b03-ac32-44e9a7ac9e0a",
   "metadata": {},
   "outputs": [
    {
     "name": "stdout",
     "output_type": "stream",
     "text": [
      "                            OLS Regression Results                            \n",
      "==============================================================================\n",
      "Dep. Variable:                Quality   R-squared:                       0.824\n",
      "Model:                            OLS   Adj. R-squared:                  0.809\n",
      "Method:                 Least Squares   F-statistic:                     53.13\n",
      "Date:                Mon, 25 Sep 2023   Prob (F-statistic):           6.36e-13\n",
      "Time:                        16:23:16   Log-Likelihood:                -47.576\n",
      "No. Observations:                  38   AIC:                             103.2\n",
      "Df Residuals:                      34   BIC:                             109.7\n",
      "Df Model:                           3                                         \n",
      "Covariance Type:            nonrobust                                         \n",
      "==================================================================================\n",
      "                     coef    std err          t      P>|t|      [0.025      0.975]\n",
      "----------------------------------------------------------------------------------\n",
      "Intercept          7.0943      0.791      8.967      0.000       5.486       8.702\n",
      "C(Region)[T.2]    -1.5335      0.369     -4.158      0.000      -2.283      -0.784\n",
      "C(Region)[T.3]     1.2234      0.400      3.056      0.004       0.410       2.037\n",
      "Flavor             1.1155      0.174      6.417      0.000       0.762       1.469\n",
      "==============================================================================\n",
      "Omnibus:                        0.226   Durbin-Watson:                   1.603\n",
      "Prob(Omnibus):                  0.893   Jarque-Bera (JB):                0.107\n",
      "Skew:                           0.121   Prob(JB):                        0.948\n",
      "Kurtosis:                       2.906   Cond. No.                         28.5\n",
      "==============================================================================\n",
      "\n",
      "Notes:\n",
      "[1] Standard Errors assume that the covariance matrix of the errors is correctly specified.\n"
     ]
    }
   ],
   "source": [
    "model4 = ols('Quality ~ C(Region) + Flavor',data=wine).fit()\n",
    "print(model4.summary())"
   ]
  },
  {
   "cell_type": "markdown",
   "id": "f010b39d-e361-41f8-8b03-540b0ee95ca9",
   "metadata": {},
   "source": [
    "* The final model decided upon is 'Quality ~ C(Region) + Flavor'.\n",
    "* It was determined that Region is significant by comparing ANOVA tables.\n",
    "* It was determined that there was no significant interaction between Region and other variables."
   ]
  },
  {
   "cell_type": "markdown",
   "id": "90a61dfa-b7df-4293-a44e-2365cdf8a8e5",
   "metadata": {},
   "source": [
    "### (e) Write the final model in equation form, being careful to handle the qualitative predictors and interactions (if any) properly."
   ]
  },
  {
   "cell_type": "markdown",
   "id": "a9bf97ef-3125-43f3-a289-f0bc7e0e3722",
   "metadata": {},
   "source": [
    "![Section1e Solution](section1e.png \"Section1e.png\")"
   ]
  },
  {
   "cell_type": "markdown",
   "id": "a048bb25-c100-4940-9e7a-93a19a5e15a2",
   "metadata": {},
   "source": [
    "### (f) Use the final model to predict the Quality of a wine from Region 1 with other predictors set equal to their sample means. Also provide a 95% prediction interval for the response and a 95% confidence interval for the mean response. Interpret the results.\n"
   ]
  },
  {
   "cell_type": "code",
   "execution_count": 9,
   "id": "821b5de0-66bb-4d51-a662-cef58e4e68cc",
   "metadata": {},
   "outputs": [
    {
     "name": "stdout",
     "output_type": "stream",
     "text": [
      "                            OLS Regression Results                            \n",
      "==============================================================================\n",
      "Dep. Variable:                Quality   R-squared:                       0.631\n",
      "Model:                            OLS   Adj. R-squared:                  0.606\n",
      "Method:                 Least Squares   F-statistic:                     25.64\n",
      "Date:                Sat, 23 Mar 2024   Prob (F-statistic):           0.000140\n",
      "Time:                        12:17:19   Log-Likelihood:                -19.954\n",
      "No. Observations:                  17   AIC:                             43.91\n",
      "Df Residuals:                      15   BIC:                             45.58\n",
      "Df Model:                           1                                         \n",
      "Covariance Type:            nonrobust                                         \n",
      "==============================================================================\n",
      "                 coef    std err          t      P>|t|      [0.025      0.975]\n",
      "------------------------------------------------------------------------------\n",
      "Intercept      6.7311      1.055      6.378      0.000       4.482       8.981\n",
      "Flavor         1.1985      0.237      5.064      0.000       0.694       1.703\n",
      "==============================================================================\n",
      "Omnibus:                        1.490   Durbin-Watson:                   2.186\n",
      "Prob(Omnibus):                  0.475   Jarque-Bera (JB):                0.848\n",
      "Skew:                           0.542   Prob(JB):                        0.654\n",
      "Kurtosis:                       2.854   Cond. No.                         24.4\n",
      "==============================================================================\n",
      "\n",
      "Notes:\n",
      "[1] Standard Errors assume that the covariance matrix of the errors is correctly specified.\n"
     ]
    },
    {
     "name": "stderr",
     "output_type": "stream",
     "text": [
      "/usr/local/lib/python3.11/site-packages/scipy/stats/_stats_py.py:1806: UserWarning: kurtosistest only valid for n>=20 ... continuing anyway, n=17\n",
      "  warnings.warn(\"kurtosistest only valid for n>=20 ... continuing \"\n"
     ]
    }
   ],
   "source": [
    "from sklearn.linear_model import LinearRegression\n",
    "import numpy as np\n",
    "wine_r1 = wine[wine.Region == 1]\n",
    "wine_r1 = sm.add_constant(wine_r1)\n",
    "model5 = ols('Quality ~ C(Region) + Flavor',data=wine_r1).fit()\n",
    "print(model5.summary())"
   ]
  },
  {
   "cell_type": "code",
   "execution_count": 10,
   "id": "0e81e90d-bf20-4db7-b911-1f757c52d8b4",
   "metadata": {},
   "outputs": [
    {
     "name": "stdout",
     "output_type": "stream",
     "text": [
      "        mean   mean_se  mean_ci_lower  mean_ci_upper  obs_ci_lower  \\\n",
      "0  10.446572  0.363463       9.671869      11.221276      8.509166   \n",
      "\n",
      "   obs_ci_upper  \n",
      "0     12.383979  \n"
     ]
    }
   ],
   "source": [
    "pred = model5.get_prediction(wine_r1[:1]).summary_frame(alpha=0.05)\n",
    "print(pred)"
   ]
  },
  {
   "cell_type": "code",
   "execution_count": 11,
   "id": "cf55ba1b-d6cd-41fe-b5d5-36990a80d752",
   "metadata": {},
   "outputs": [
    {
     "name": "stdout",
     "output_type": "stream",
     "text": [
      "         mean   mean_se  mean_ci_lower  mean_ci_upper  obs_ci_lower  \\\n",
      "0   10.446572  0.363463       9.671869      11.221276      8.509166   \n",
      "1   10.925987  0.289592      10.308737      11.543238      9.045993   \n",
      "2   12.484087  0.225562      12.003312      12.964861     10.644379   \n",
      "3   10.446572  0.363463       9.671869      11.221276      8.509166   \n",
      "4   13.323063  0.333981      12.611199      14.034927     11.409917   \n",
      "5   12.723794  0.250219      12.190466      13.257122     10.869659   \n",
      "6   12.484087  0.225562      12.003312      12.964861     10.644379   \n",
      "7   11.884818  0.202873      11.452405      12.317231     10.057152   \n",
      "8   12.364233  0.216086      11.903655      12.824810     10.529700   \n",
      "9   11.884818  0.202873      11.452405      12.317231     10.057152   \n",
      "10  12.843648  0.264869      12.279094      13.408202     10.980291   \n",
      "11  10.326719  0.383363       9.509600      11.143837      8.371965   \n",
      "12  11.884818  0.202873      11.452405      12.317231     10.057152   \n",
      "13  13.323063  0.333981      12.611199      14.034927     11.409917   \n",
      "14  11.764964  0.206335      11.325170      12.204758      9.935538   \n",
      "15  10.925987  0.289592      10.308737      11.543238      9.045993   \n",
      "16  13.562771  0.372773      12.768224      14.357317     11.617344   \n",
      "\n",
      "    obs_ci_upper  \n",
      "0      12.383979  \n",
      "1      12.805982  \n",
      "2      14.323794  \n",
      "3      12.383979  \n",
      "4      15.236210  \n",
      "5      14.577930  \n",
      "6      14.323794  \n",
      "7      13.712483  \n",
      "8      14.198766  \n",
      "9      13.712483  \n",
      "10     14.707005  \n",
      "11     12.281472  \n",
      "12     13.712483  \n",
      "13     15.236210  \n",
      "14     13.594389  \n",
      "15     12.805982  \n",
      "16     15.508197  \n"
     ]
    }
   ],
   "source": [
    "pred2 = model5.get_prediction(wine_r1).summary_frame(alpha=0.05)\n",
    "print(pred2)"
   ]
  },
  {
   "cell_type": "code",
   "execution_count": 12,
   "id": "d37fe1eb-8698-48bf-8bc3-bac7ef1fe822",
   "metadata": {},
   "outputs": [
    {
     "name": "stdout",
     "output_type": "stream",
     "text": [
      "    Clarity  Aroma  Body  Flavor  Oakiness  Quality  Region\n",
      "0       1.0    3.3   2.8     3.1       4.1      9.8       1\n",
      "1       1.0    4.4   4.9     3.5       3.9     12.6       1\n",
      "2       1.0    3.9   5.3     4.8       4.7     11.9       1\n",
      "3       1.0    3.9   2.6     3.1       3.6     11.1       1\n",
      "4       1.0    5.6   5.1     5.5       5.1     13.3       1\n",
      "5       1.0    4.6   4.7     5.0       4.1     12.8       1\n",
      "6       1.0    4.8   4.8     4.8       3.3     12.8       1\n",
      "7       1.0    5.3   4.5     4.3       5.2     12.0       1\n",
      "9       1.0    4.3   3.9     4.7       3.9     13.9       1\n",
      "18      1.0    4.6   4.1     4.3       3.1     11.3       1\n",
      "26      1.0    3.9   4.0     5.1       5.1     11.7       1\n",
      "31      0.8    4.2   3.8     3.0       4.7      9.1       1\n",
      "32      1.0    3.3   3.5     4.3       4.5     12.1       1\n",
      "34      0.8    5.0   5.7     5.5       4.8     13.5       1\n",
      "35      0.8    3.5   4.7     4.2       3.3     12.2       1\n",
      "36      0.8    4.3   5.5     3.5       5.8     10.3       1\n",
      "37      0.8    5.2   4.8     5.7       3.5     13.2       1\n"
     ]
    }
   ],
   "source": [
    "print(wine_r1)"
   ]
  },
  {
   "cell_type": "markdown",
   "id": "b9ba1cc5-9aa6-4248-a7c5-486e8b738f7a",
   "metadata": {},
   "source": [
    "* 95% confidence interval for mean response = [9.671869, 11.221276].\n",
    "* 95% prediction interval = [8.509166, 12.383979].\n",
    "* The prediction interval is wider than the confidence interval because it is accounting for more uncertainty."
   ]
  }
 ],
 "metadata": {
  "kernelspec": {
   "display_name": "Python 3 (ipykernel)",
   "language": "python",
   "name": "python3"
  },
  "language_info": {
   "codemirror_mode": {
    "name": "ipython",
    "version": 3
   },
   "file_extension": ".py",
   "mimetype": "text/x-python",
   "name": "python",
   "nbconvert_exporter": "python",
   "pygments_lexer": "ipython3",
   "version": "3.11.7"
  }
 },
 "nbformat": 4,
 "nbformat_minor": 5
}
